{
  "nbformat": 4,
  "nbformat_minor": 0,
  "metadata": {
    "colab": {
      "provenance": [],
      "gpuType": "T4",
      "authorship_tag": "ABX9TyPG6nPdKRJ14qtL8xHs11io",
      "include_colab_link": true
    },
    "kernelspec": {
      "name": "python3",
      "display_name": "Python 3"
    },
    "language_info": {
      "name": "python"
    },
    "accelerator": "GPU"
  },
  "cells": [
    {
      "cell_type": "markdown",
      "metadata": {
        "id": "view-in-github",
        "colab_type": "text"
      },
      "source": [
        "<a href=\"https://colab.research.google.com/github/RaisB17/deep_learning/blob/main/UTS_MLP.ipynb\" target=\"_parent\"><img src=\"https://colab.research.google.com/assets/colab-badge.svg\" alt=\"Open In Colab\"/></a>"
      ]
    },
    {
      "cell_type": "code",
      "execution_count": 1,
      "metadata": {
        "id": "wfLsu0qVE0GJ"
      },
      "outputs": [],
      "source": [
        "import pandas as pd\n",
        "import numpy as np\n",
        "import matplotlib.pyplot as plt\n",
        "from sklearn.model_selection import train_test_split\n",
        "from sklearn.preprocessing import StandardScaler, OneHotEncoder\n",
        "from sklearn.metrics import mean_squared_error, r2_score\n",
        "from tensorflow.keras.models import Sequential\n",
        "from tensorflow.keras.layers import Dense,Dropout\n",
        "import tensorflow as tf\n",
        "from tensorflow.keras.callbacks import EarlyStopping\n",
        "import matplotlib.pyplot as plt\n",
        "from sklearn.metrics import mean_squared_error, r2_score"
      ]
    },
    {
      "cell_type": "code",
      "source": [
        "df = pd.read_csv('RegresiUTSTelkom.csv')"
      ],
      "metadata": {
        "id": "RAJqG7jlFT6u"
      },
      "execution_count": 97,
      "outputs": []
    },
    {
      "cell_type": "code",
      "source": [
        "df.head()"
      ],
      "metadata": {
        "colab": {
          "base_uri": "https://localhost:8080/",
          "height": 255
        },
        "id": "a93Xcr-aFe9M",
        "outputId": "8df43197-79d9-4c20-b93c-731461930572"
      },
      "execution_count": 98,
      "outputs": [
        {
          "output_type": "execute_result",
          "data": {
            "text/plain": [
              "   2001  49.94357  21.47114   73.0775   8.74861  -17.40628  -13.09905  \\\n",
              "0  2001  48.73215  18.42930  70.32679  12.94636  -10.32437  -24.83777   \n",
              "1  2001  50.95714  31.85602  55.81851  13.41693   -6.57898  -18.54940   \n",
              "2  2001  48.24750  -1.89837  36.29772   2.58776    0.97170  -26.21683   \n",
              "3  2001  50.97020  42.20998  67.09964   8.46791  -15.85279  -16.81409   \n",
              "4  2001  50.54767   0.31568  92.35066  22.38696  -25.51870  -19.04928   \n",
              "\n",
              "   -25.01202  -12.23257   7.83089  ...   13.0162  -54.40548  58.99367  \\\n",
              "0    8.76630   -0.92019  18.76548  ...   5.66812  -19.68073  33.04964   \n",
              "1   -3.27872   -2.35035  16.07017  ...   3.03800   26.05866 -50.92779   \n",
              "2    5.05097  -10.34124   3.55005  ...  34.57337 -171.70734 -16.96705   \n",
              "3  -12.48207   -9.37636  12.63699  ...   9.92661  -55.95724  64.92712   \n",
              "4   20.67345   -5.19943   3.63566  ...   6.59753  -50.69577  26.02574   \n",
              "\n",
              "   15.37344   1.11144  -23.08793   68.40795  -1.82223  -27.46348   2.26327  \n",
              "0  42.87836  -9.90378  -32.22788   70.49388  12.04941   58.43453  26.92061  \n",
              "1  10.93792  -0.07568   43.20130 -115.00698  -0.05859   39.67068  -0.66345  \n",
              "2 -46.67617 -12.51516   82.58061  -72.08993   9.90558  199.62971  18.85382  \n",
              "3 -17.72522  -1.49237   -7.50035   51.76631   7.88713   55.66926  28.74903  \n",
              "4  18.94430  -0.33730    6.09352   35.18381   5.00283  -11.02257   0.02263  \n",
              "\n",
              "[5 rows x 91 columns]"
            ],
            "text/html": [
              "\n",
              "  <div id=\"df-d2b95ee9-6e96-4687-a35a-6b462e1f235c\" class=\"colab-df-container\">\n",
              "    <div>\n",
              "<style scoped>\n",
              "    .dataframe tbody tr th:only-of-type {\n",
              "        vertical-align: middle;\n",
              "    }\n",
              "\n",
              "    .dataframe tbody tr th {\n",
              "        vertical-align: top;\n",
              "    }\n",
              "\n",
              "    .dataframe thead th {\n",
              "        text-align: right;\n",
              "    }\n",
              "</style>\n",
              "<table border=\"1\" class=\"dataframe\">\n",
              "  <thead>\n",
              "    <tr style=\"text-align: right;\">\n",
              "      <th></th>\n",
              "      <th>2001</th>\n",
              "      <th>49.94357</th>\n",
              "      <th>21.47114</th>\n",
              "      <th>73.0775</th>\n",
              "      <th>8.74861</th>\n",
              "      <th>-17.40628</th>\n",
              "      <th>-13.09905</th>\n",
              "      <th>-25.01202</th>\n",
              "      <th>-12.23257</th>\n",
              "      <th>7.83089</th>\n",
              "      <th>...</th>\n",
              "      <th>13.0162</th>\n",
              "      <th>-54.40548</th>\n",
              "      <th>58.99367</th>\n",
              "      <th>15.37344</th>\n",
              "      <th>1.11144</th>\n",
              "      <th>-23.08793</th>\n",
              "      <th>68.40795</th>\n",
              "      <th>-1.82223</th>\n",
              "      <th>-27.46348</th>\n",
              "      <th>2.26327</th>\n",
              "    </tr>\n",
              "  </thead>\n",
              "  <tbody>\n",
              "    <tr>\n",
              "      <th>0</th>\n",
              "      <td>2001</td>\n",
              "      <td>48.73215</td>\n",
              "      <td>18.42930</td>\n",
              "      <td>70.32679</td>\n",
              "      <td>12.94636</td>\n",
              "      <td>-10.32437</td>\n",
              "      <td>-24.83777</td>\n",
              "      <td>8.76630</td>\n",
              "      <td>-0.92019</td>\n",
              "      <td>18.76548</td>\n",
              "      <td>...</td>\n",
              "      <td>5.66812</td>\n",
              "      <td>-19.68073</td>\n",
              "      <td>33.04964</td>\n",
              "      <td>42.87836</td>\n",
              "      <td>-9.90378</td>\n",
              "      <td>-32.22788</td>\n",
              "      <td>70.49388</td>\n",
              "      <td>12.04941</td>\n",
              "      <td>58.43453</td>\n",
              "      <td>26.92061</td>\n",
              "    </tr>\n",
              "    <tr>\n",
              "      <th>1</th>\n",
              "      <td>2001</td>\n",
              "      <td>50.95714</td>\n",
              "      <td>31.85602</td>\n",
              "      <td>55.81851</td>\n",
              "      <td>13.41693</td>\n",
              "      <td>-6.57898</td>\n",
              "      <td>-18.54940</td>\n",
              "      <td>-3.27872</td>\n",
              "      <td>-2.35035</td>\n",
              "      <td>16.07017</td>\n",
              "      <td>...</td>\n",
              "      <td>3.03800</td>\n",
              "      <td>26.05866</td>\n",
              "      <td>-50.92779</td>\n",
              "      <td>10.93792</td>\n",
              "      <td>-0.07568</td>\n",
              "      <td>43.20130</td>\n",
              "      <td>-115.00698</td>\n",
              "      <td>-0.05859</td>\n",
              "      <td>39.67068</td>\n",
              "      <td>-0.66345</td>\n",
              "    </tr>\n",
              "    <tr>\n",
              "      <th>2</th>\n",
              "      <td>2001</td>\n",
              "      <td>48.24750</td>\n",
              "      <td>-1.89837</td>\n",
              "      <td>36.29772</td>\n",
              "      <td>2.58776</td>\n",
              "      <td>0.97170</td>\n",
              "      <td>-26.21683</td>\n",
              "      <td>5.05097</td>\n",
              "      <td>-10.34124</td>\n",
              "      <td>3.55005</td>\n",
              "      <td>...</td>\n",
              "      <td>34.57337</td>\n",
              "      <td>-171.70734</td>\n",
              "      <td>-16.96705</td>\n",
              "      <td>-46.67617</td>\n",
              "      <td>-12.51516</td>\n",
              "      <td>82.58061</td>\n",
              "      <td>-72.08993</td>\n",
              "      <td>9.90558</td>\n",
              "      <td>199.62971</td>\n",
              "      <td>18.85382</td>\n",
              "    </tr>\n",
              "    <tr>\n",
              "      <th>3</th>\n",
              "      <td>2001</td>\n",
              "      <td>50.97020</td>\n",
              "      <td>42.20998</td>\n",
              "      <td>67.09964</td>\n",
              "      <td>8.46791</td>\n",
              "      <td>-15.85279</td>\n",
              "      <td>-16.81409</td>\n",
              "      <td>-12.48207</td>\n",
              "      <td>-9.37636</td>\n",
              "      <td>12.63699</td>\n",
              "      <td>...</td>\n",
              "      <td>9.92661</td>\n",
              "      <td>-55.95724</td>\n",
              "      <td>64.92712</td>\n",
              "      <td>-17.72522</td>\n",
              "      <td>-1.49237</td>\n",
              "      <td>-7.50035</td>\n",
              "      <td>51.76631</td>\n",
              "      <td>7.88713</td>\n",
              "      <td>55.66926</td>\n",
              "      <td>28.74903</td>\n",
              "    </tr>\n",
              "    <tr>\n",
              "      <th>4</th>\n",
              "      <td>2001</td>\n",
              "      <td>50.54767</td>\n",
              "      <td>0.31568</td>\n",
              "      <td>92.35066</td>\n",
              "      <td>22.38696</td>\n",
              "      <td>-25.51870</td>\n",
              "      <td>-19.04928</td>\n",
              "      <td>20.67345</td>\n",
              "      <td>-5.19943</td>\n",
              "      <td>3.63566</td>\n",
              "      <td>...</td>\n",
              "      <td>6.59753</td>\n",
              "      <td>-50.69577</td>\n",
              "      <td>26.02574</td>\n",
              "      <td>18.94430</td>\n",
              "      <td>-0.33730</td>\n",
              "      <td>6.09352</td>\n",
              "      <td>35.18381</td>\n",
              "      <td>5.00283</td>\n",
              "      <td>-11.02257</td>\n",
              "      <td>0.02263</td>\n",
              "    </tr>\n",
              "  </tbody>\n",
              "</table>\n",
              "<p>5 rows × 91 columns</p>\n",
              "</div>\n",
              "    <div class=\"colab-df-buttons\">\n",
              "\n",
              "  <div class=\"colab-df-container\">\n",
              "    <button class=\"colab-df-convert\" onclick=\"convertToInteractive('df-d2b95ee9-6e96-4687-a35a-6b462e1f235c')\"\n",
              "            title=\"Convert this dataframe to an interactive table.\"\n",
              "            style=\"display:none;\">\n",
              "\n",
              "  <svg xmlns=\"http://www.w3.org/2000/svg\" height=\"24px\" viewBox=\"0 -960 960 960\">\n",
              "    <path d=\"M120-120v-720h720v720H120Zm60-500h600v-160H180v160Zm220 220h160v-160H400v160Zm0 220h160v-160H400v160ZM180-400h160v-160H180v160Zm440 0h160v-160H620v160ZM180-180h160v-160H180v160Zm440 0h160v-160H620v160Z\"/>\n",
              "  </svg>\n",
              "    </button>\n",
              "\n",
              "  <style>\n",
              "    .colab-df-container {\n",
              "      display:flex;\n",
              "      gap: 12px;\n",
              "    }\n",
              "\n",
              "    .colab-df-convert {\n",
              "      background-color: #E8F0FE;\n",
              "      border: none;\n",
              "      border-radius: 50%;\n",
              "      cursor: pointer;\n",
              "      display: none;\n",
              "      fill: #1967D2;\n",
              "      height: 32px;\n",
              "      padding: 0 0 0 0;\n",
              "      width: 32px;\n",
              "    }\n",
              "\n",
              "    .colab-df-convert:hover {\n",
              "      background-color: #E2EBFA;\n",
              "      box-shadow: 0px 1px 2px rgba(60, 64, 67, 0.3), 0px 1px 3px 1px rgba(60, 64, 67, 0.15);\n",
              "      fill: #174EA6;\n",
              "    }\n",
              "\n",
              "    .colab-df-buttons div {\n",
              "      margin-bottom: 4px;\n",
              "    }\n",
              "\n",
              "    [theme=dark] .colab-df-convert {\n",
              "      background-color: #3B4455;\n",
              "      fill: #D2E3FC;\n",
              "    }\n",
              "\n",
              "    [theme=dark] .colab-df-convert:hover {\n",
              "      background-color: #434B5C;\n",
              "      box-shadow: 0px 1px 3px 1px rgba(0, 0, 0, 0.15);\n",
              "      filter: drop-shadow(0px 1px 2px rgba(0, 0, 0, 0.3));\n",
              "      fill: #FFFFFF;\n",
              "    }\n",
              "  </style>\n",
              "\n",
              "    <script>\n",
              "      const buttonEl =\n",
              "        document.querySelector('#df-d2b95ee9-6e96-4687-a35a-6b462e1f235c button.colab-df-convert');\n",
              "      buttonEl.style.display =\n",
              "        google.colab.kernel.accessAllowed ? 'block' : 'none';\n",
              "\n",
              "      async function convertToInteractive(key) {\n",
              "        const element = document.querySelector('#df-d2b95ee9-6e96-4687-a35a-6b462e1f235c');\n",
              "        const dataTable =\n",
              "          await google.colab.kernel.invokeFunction('convertToInteractive',\n",
              "                                                    [key], {});\n",
              "        if (!dataTable) return;\n",
              "\n",
              "        const docLinkHtml = 'Like what you see? Visit the ' +\n",
              "          '<a target=\"_blank\" href=https://colab.research.google.com/notebooks/data_table.ipynb>data table notebook</a>'\n",
              "          + ' to learn more about interactive tables.';\n",
              "        element.innerHTML = '';\n",
              "        dataTable['output_type'] = 'display_data';\n",
              "        await google.colab.output.renderOutput(dataTable, element);\n",
              "        const docLink = document.createElement('div');\n",
              "        docLink.innerHTML = docLinkHtml;\n",
              "        element.appendChild(docLink);\n",
              "      }\n",
              "    </script>\n",
              "  </div>\n",
              "\n",
              "\n",
              "    <div id=\"df-524a579e-f14d-42fa-b518-ff6db6499dda\">\n",
              "      <button class=\"colab-df-quickchart\" onclick=\"quickchart('df-524a579e-f14d-42fa-b518-ff6db6499dda')\"\n",
              "                title=\"Suggest charts\"\n",
              "                style=\"display:none;\">\n",
              "\n",
              "<svg xmlns=\"http://www.w3.org/2000/svg\" height=\"24px\"viewBox=\"0 0 24 24\"\n",
              "     width=\"24px\">\n",
              "    <g>\n",
              "        <path d=\"M19 3H5c-1.1 0-2 .9-2 2v14c0 1.1.9 2 2 2h14c1.1 0 2-.9 2-2V5c0-1.1-.9-2-2-2zM9 17H7v-7h2v7zm4 0h-2V7h2v10zm4 0h-2v-4h2v4z\"/>\n",
              "    </g>\n",
              "</svg>\n",
              "      </button>\n",
              "\n",
              "<style>\n",
              "  .colab-df-quickchart {\n",
              "      --bg-color: #E8F0FE;\n",
              "      --fill-color: #1967D2;\n",
              "      --hover-bg-color: #E2EBFA;\n",
              "      --hover-fill-color: #174EA6;\n",
              "      --disabled-fill-color: #AAA;\n",
              "      --disabled-bg-color: #DDD;\n",
              "  }\n",
              "\n",
              "  [theme=dark] .colab-df-quickchart {\n",
              "      --bg-color: #3B4455;\n",
              "      --fill-color: #D2E3FC;\n",
              "      --hover-bg-color: #434B5C;\n",
              "      --hover-fill-color: #FFFFFF;\n",
              "      --disabled-bg-color: #3B4455;\n",
              "      --disabled-fill-color: #666;\n",
              "  }\n",
              "\n",
              "  .colab-df-quickchart {\n",
              "    background-color: var(--bg-color);\n",
              "    border: none;\n",
              "    border-radius: 50%;\n",
              "    cursor: pointer;\n",
              "    display: none;\n",
              "    fill: var(--fill-color);\n",
              "    height: 32px;\n",
              "    padding: 0;\n",
              "    width: 32px;\n",
              "  }\n",
              "\n",
              "  .colab-df-quickchart:hover {\n",
              "    background-color: var(--hover-bg-color);\n",
              "    box-shadow: 0 1px 2px rgba(60, 64, 67, 0.3), 0 1px 3px 1px rgba(60, 64, 67, 0.15);\n",
              "    fill: var(--button-hover-fill-color);\n",
              "  }\n",
              "\n",
              "  .colab-df-quickchart-complete:disabled,\n",
              "  .colab-df-quickchart-complete:disabled:hover {\n",
              "    background-color: var(--disabled-bg-color);\n",
              "    fill: var(--disabled-fill-color);\n",
              "    box-shadow: none;\n",
              "  }\n",
              "\n",
              "  .colab-df-spinner {\n",
              "    border: 2px solid var(--fill-color);\n",
              "    border-color: transparent;\n",
              "    border-bottom-color: var(--fill-color);\n",
              "    animation:\n",
              "      spin 1s steps(1) infinite;\n",
              "  }\n",
              "\n",
              "  @keyframes spin {\n",
              "    0% {\n",
              "      border-color: transparent;\n",
              "      border-bottom-color: var(--fill-color);\n",
              "      border-left-color: var(--fill-color);\n",
              "    }\n",
              "    20% {\n",
              "      border-color: transparent;\n",
              "      border-left-color: var(--fill-color);\n",
              "      border-top-color: var(--fill-color);\n",
              "    }\n",
              "    30% {\n",
              "      border-color: transparent;\n",
              "      border-left-color: var(--fill-color);\n",
              "      border-top-color: var(--fill-color);\n",
              "      border-right-color: var(--fill-color);\n",
              "    }\n",
              "    40% {\n",
              "      border-color: transparent;\n",
              "      border-right-color: var(--fill-color);\n",
              "      border-top-color: var(--fill-color);\n",
              "    }\n",
              "    60% {\n",
              "      border-color: transparent;\n",
              "      border-right-color: var(--fill-color);\n",
              "    }\n",
              "    80% {\n",
              "      border-color: transparent;\n",
              "      border-right-color: var(--fill-color);\n",
              "      border-bottom-color: var(--fill-color);\n",
              "    }\n",
              "    90% {\n",
              "      border-color: transparent;\n",
              "      border-bottom-color: var(--fill-color);\n",
              "    }\n",
              "  }\n",
              "</style>\n",
              "\n",
              "      <script>\n",
              "        async function quickchart(key) {\n",
              "          const quickchartButtonEl =\n",
              "            document.querySelector('#' + key + ' button');\n",
              "          quickchartButtonEl.disabled = true;  // To prevent multiple clicks.\n",
              "          quickchartButtonEl.classList.add('colab-df-spinner');\n",
              "          try {\n",
              "            const charts = await google.colab.kernel.invokeFunction(\n",
              "                'suggestCharts', [key], {});\n",
              "          } catch (error) {\n",
              "            console.error('Error during call to suggestCharts:', error);\n",
              "          }\n",
              "          quickchartButtonEl.classList.remove('colab-df-spinner');\n",
              "          quickchartButtonEl.classList.add('colab-df-quickchart-complete');\n",
              "        }\n",
              "        (() => {\n",
              "          let quickchartButtonEl =\n",
              "            document.querySelector('#df-524a579e-f14d-42fa-b518-ff6db6499dda button');\n",
              "          quickchartButtonEl.style.display =\n",
              "            google.colab.kernel.accessAllowed ? 'block' : 'none';\n",
              "        })();\n",
              "      </script>\n",
              "    </div>\n",
              "\n",
              "    </div>\n",
              "  </div>\n"
            ],
            "application/vnd.google.colaboratory.intrinsic+json": {
              "type": "dataframe",
              "variable_name": "df"
            }
          },
          "metadata": {},
          "execution_count": 98
        }
      ]
    },
    {
      "cell_type": "code",
      "source": [
        "df.describe()"
      ],
      "metadata": {
        "colab": {
          "base_uri": "https://localhost:8080/",
          "height": 349
        },
        "id": "s7Z9lcN1F26D",
        "outputId": "dc43809c-663e-4d89-a24e-79dc1414a897"
      },
      "execution_count": 99,
      "outputs": [
        {
          "output_type": "execute_result",
          "data": {
            "text/plain": [
              "                2001       49.94357       21.47114        73.0775  \\\n",
              "count  515344.000000  515344.000000  515344.000000  515344.000000   \n",
              "mean     1998.397077      43.387113       1.289515       8.658222   \n",
              "std        10.931056       6.067557      51.580393      35.268505   \n",
              "min      1922.000000       1.749000    -337.092500    -301.005060   \n",
              "25%      1994.000000      39.954667     -26.059848     -11.462775   \n",
              "50%      2002.000000      44.258490       8.417725      10.476235   \n",
              "75%      2006.000000      47.833875      36.124030      29.764685   \n",
              "max      2011.000000      61.970140     384.065730     322.851430   \n",
              "\n",
              "             8.74861      -17.40628      -13.09905      -25.01202  \\\n",
              "count  515344.000000  515344.000000  515344.000000  515344.000000   \n",
              "mean        1.164110      -6.553580      -9.521968      -2.391046   \n",
              "std        16.322802      22.860803      12.857763      14.571853   \n",
              "min      -154.183580    -181.953370     -81.794290    -188.214000   \n",
              "25%        -8.487507     -20.666455     -18.441005     -10.780360   \n",
              "50%        -0.652855      -6.007770     -11.188355      -2.046625   \n",
              "75%         8.787548       7.741877      -2.388945       6.508587   \n",
              "max       335.771820     262.068870     166.236890     172.402680   \n",
              "\n",
              "           -12.23257        7.83089  ...        13.0162      -54.40548  \\\n",
              "count  515344.000000  515344.000000  ...  515344.000000  515344.000000   \n",
              "mean       -1.793215       3.727868  ...      15.755411     -73.461537   \n",
              "std         7.963822      10.582869  ...      32.099666     175.619058   \n",
              "min       -72.503850    -126.479040  ...    -437.722030   -4402.376440   \n",
              "25%        -6.468390      -2.293670  ...      -1.812658    -139.555737   \n",
              "50%        -1.736415       3.822305  ...       9.171850     -53.089115   \n",
              "75%         2.913455       9.961865  ...      26.274487      13.478793   \n",
              "max       126.741270     146.297950  ...     840.973380    4469.454870   \n",
              "\n",
              "            58.99367       15.37344        1.11144      -23.08793  \\\n",
              "count  515344.000000  515344.000000  515344.000000  515344.000000   \n",
              "mean       41.542388      37.934163       0.315750      17.669292   \n",
              "std       122.228915      95.050718      16.161780     114.428002   \n",
              "min     -1810.689190   -3098.350310    -341.789120   -3168.924570   \n",
              "25%       -20.987115      -4.669655      -6.781598     -31.580617   \n",
              "50%        28.790580      33.623815       0.820830      15.598520   \n",
              "75%        89.661785      77.785810       8.471000      67.795110   \n",
              "max      3210.701700    1734.079690     260.544900    3662.065650   \n",
              "\n",
              "            68.40795       -1.82223      -27.46348        2.26327  \n",
              "count  515344.000000  515344.000000  515344.000000  515344.000000  \n",
              "mean      -26.315520       4.458653      20.035229       1.329104  \n",
              "std       173.977455      13.346567     185.558415      22.088598  \n",
              "min     -4319.992320    -236.039260   -7458.378150    -381.424430  \n",
              "25%      -101.530305      -2.566137     -59.509453      -8.820248  \n",
              "50%       -21.204225       3.117645       7.759910       0.053015  \n",
              "75%        52.389322       9.967742      86.351645       9.679540  \n",
              "max      2833.608950     463.419500    7393.398440     677.899630  \n",
              "\n",
              "[8 rows x 91 columns]"
            ],
            "text/html": [
              "\n",
              "  <div id=\"df-a643b519-5e79-48be-a2a1-1a01f57f9cb5\" class=\"colab-df-container\">\n",
              "    <div>\n",
              "<style scoped>\n",
              "    .dataframe tbody tr th:only-of-type {\n",
              "        vertical-align: middle;\n",
              "    }\n",
              "\n",
              "    .dataframe tbody tr th {\n",
              "        vertical-align: top;\n",
              "    }\n",
              "\n",
              "    .dataframe thead th {\n",
              "        text-align: right;\n",
              "    }\n",
              "</style>\n",
              "<table border=\"1\" class=\"dataframe\">\n",
              "  <thead>\n",
              "    <tr style=\"text-align: right;\">\n",
              "      <th></th>\n",
              "      <th>2001</th>\n",
              "      <th>49.94357</th>\n",
              "      <th>21.47114</th>\n",
              "      <th>73.0775</th>\n",
              "      <th>8.74861</th>\n",
              "      <th>-17.40628</th>\n",
              "      <th>-13.09905</th>\n",
              "      <th>-25.01202</th>\n",
              "      <th>-12.23257</th>\n",
              "      <th>7.83089</th>\n",
              "      <th>...</th>\n",
              "      <th>13.0162</th>\n",
              "      <th>-54.40548</th>\n",
              "      <th>58.99367</th>\n",
              "      <th>15.37344</th>\n",
              "      <th>1.11144</th>\n",
              "      <th>-23.08793</th>\n",
              "      <th>68.40795</th>\n",
              "      <th>-1.82223</th>\n",
              "      <th>-27.46348</th>\n",
              "      <th>2.26327</th>\n",
              "    </tr>\n",
              "  </thead>\n",
              "  <tbody>\n",
              "    <tr>\n",
              "      <th>count</th>\n",
              "      <td>515344.000000</td>\n",
              "      <td>515344.000000</td>\n",
              "      <td>515344.000000</td>\n",
              "      <td>515344.000000</td>\n",
              "      <td>515344.000000</td>\n",
              "      <td>515344.000000</td>\n",
              "      <td>515344.000000</td>\n",
              "      <td>515344.000000</td>\n",
              "      <td>515344.000000</td>\n",
              "      <td>515344.000000</td>\n",
              "      <td>...</td>\n",
              "      <td>515344.000000</td>\n",
              "      <td>515344.000000</td>\n",
              "      <td>515344.000000</td>\n",
              "      <td>515344.000000</td>\n",
              "      <td>515344.000000</td>\n",
              "      <td>515344.000000</td>\n",
              "      <td>515344.000000</td>\n",
              "      <td>515344.000000</td>\n",
              "      <td>515344.000000</td>\n",
              "      <td>515344.000000</td>\n",
              "    </tr>\n",
              "    <tr>\n",
              "      <th>mean</th>\n",
              "      <td>1998.397077</td>\n",
              "      <td>43.387113</td>\n",
              "      <td>1.289515</td>\n",
              "      <td>8.658222</td>\n",
              "      <td>1.164110</td>\n",
              "      <td>-6.553580</td>\n",
              "      <td>-9.521968</td>\n",
              "      <td>-2.391046</td>\n",
              "      <td>-1.793215</td>\n",
              "      <td>3.727868</td>\n",
              "      <td>...</td>\n",
              "      <td>15.755411</td>\n",
              "      <td>-73.461537</td>\n",
              "      <td>41.542388</td>\n",
              "      <td>37.934163</td>\n",
              "      <td>0.315750</td>\n",
              "      <td>17.669292</td>\n",
              "      <td>-26.315520</td>\n",
              "      <td>4.458653</td>\n",
              "      <td>20.035229</td>\n",
              "      <td>1.329104</td>\n",
              "    </tr>\n",
              "    <tr>\n",
              "      <th>std</th>\n",
              "      <td>10.931056</td>\n",
              "      <td>6.067557</td>\n",
              "      <td>51.580393</td>\n",
              "      <td>35.268505</td>\n",
              "      <td>16.322802</td>\n",
              "      <td>22.860803</td>\n",
              "      <td>12.857763</td>\n",
              "      <td>14.571853</td>\n",
              "      <td>7.963822</td>\n",
              "      <td>10.582869</td>\n",
              "      <td>...</td>\n",
              "      <td>32.099666</td>\n",
              "      <td>175.619058</td>\n",
              "      <td>122.228915</td>\n",
              "      <td>95.050718</td>\n",
              "      <td>16.161780</td>\n",
              "      <td>114.428002</td>\n",
              "      <td>173.977455</td>\n",
              "      <td>13.346567</td>\n",
              "      <td>185.558415</td>\n",
              "      <td>22.088598</td>\n",
              "    </tr>\n",
              "    <tr>\n",
              "      <th>min</th>\n",
              "      <td>1922.000000</td>\n",
              "      <td>1.749000</td>\n",
              "      <td>-337.092500</td>\n",
              "      <td>-301.005060</td>\n",
              "      <td>-154.183580</td>\n",
              "      <td>-181.953370</td>\n",
              "      <td>-81.794290</td>\n",
              "      <td>-188.214000</td>\n",
              "      <td>-72.503850</td>\n",
              "      <td>-126.479040</td>\n",
              "      <td>...</td>\n",
              "      <td>-437.722030</td>\n",
              "      <td>-4402.376440</td>\n",
              "      <td>-1810.689190</td>\n",
              "      <td>-3098.350310</td>\n",
              "      <td>-341.789120</td>\n",
              "      <td>-3168.924570</td>\n",
              "      <td>-4319.992320</td>\n",
              "      <td>-236.039260</td>\n",
              "      <td>-7458.378150</td>\n",
              "      <td>-381.424430</td>\n",
              "    </tr>\n",
              "    <tr>\n",
              "      <th>25%</th>\n",
              "      <td>1994.000000</td>\n",
              "      <td>39.954667</td>\n",
              "      <td>-26.059848</td>\n",
              "      <td>-11.462775</td>\n",
              "      <td>-8.487507</td>\n",
              "      <td>-20.666455</td>\n",
              "      <td>-18.441005</td>\n",
              "      <td>-10.780360</td>\n",
              "      <td>-6.468390</td>\n",
              "      <td>-2.293670</td>\n",
              "      <td>...</td>\n",
              "      <td>-1.812658</td>\n",
              "      <td>-139.555737</td>\n",
              "      <td>-20.987115</td>\n",
              "      <td>-4.669655</td>\n",
              "      <td>-6.781598</td>\n",
              "      <td>-31.580617</td>\n",
              "      <td>-101.530305</td>\n",
              "      <td>-2.566137</td>\n",
              "      <td>-59.509453</td>\n",
              "      <td>-8.820248</td>\n",
              "    </tr>\n",
              "    <tr>\n",
              "      <th>50%</th>\n",
              "      <td>2002.000000</td>\n",
              "      <td>44.258490</td>\n",
              "      <td>8.417725</td>\n",
              "      <td>10.476235</td>\n",
              "      <td>-0.652855</td>\n",
              "      <td>-6.007770</td>\n",
              "      <td>-11.188355</td>\n",
              "      <td>-2.046625</td>\n",
              "      <td>-1.736415</td>\n",
              "      <td>3.822305</td>\n",
              "      <td>...</td>\n",
              "      <td>9.171850</td>\n",
              "      <td>-53.089115</td>\n",
              "      <td>28.790580</td>\n",
              "      <td>33.623815</td>\n",
              "      <td>0.820830</td>\n",
              "      <td>15.598520</td>\n",
              "      <td>-21.204225</td>\n",
              "      <td>3.117645</td>\n",
              "      <td>7.759910</td>\n",
              "      <td>0.053015</td>\n",
              "    </tr>\n",
              "    <tr>\n",
              "      <th>75%</th>\n",
              "      <td>2006.000000</td>\n",
              "      <td>47.833875</td>\n",
              "      <td>36.124030</td>\n",
              "      <td>29.764685</td>\n",
              "      <td>8.787548</td>\n",
              "      <td>7.741877</td>\n",
              "      <td>-2.388945</td>\n",
              "      <td>6.508587</td>\n",
              "      <td>2.913455</td>\n",
              "      <td>9.961865</td>\n",
              "      <td>...</td>\n",
              "      <td>26.274487</td>\n",
              "      <td>13.478793</td>\n",
              "      <td>89.661785</td>\n",
              "      <td>77.785810</td>\n",
              "      <td>8.471000</td>\n",
              "      <td>67.795110</td>\n",
              "      <td>52.389322</td>\n",
              "      <td>9.967742</td>\n",
              "      <td>86.351645</td>\n",
              "      <td>9.679540</td>\n",
              "    </tr>\n",
              "    <tr>\n",
              "      <th>max</th>\n",
              "      <td>2011.000000</td>\n",
              "      <td>61.970140</td>\n",
              "      <td>384.065730</td>\n",
              "      <td>322.851430</td>\n",
              "      <td>335.771820</td>\n",
              "      <td>262.068870</td>\n",
              "      <td>166.236890</td>\n",
              "      <td>172.402680</td>\n",
              "      <td>126.741270</td>\n",
              "      <td>146.297950</td>\n",
              "      <td>...</td>\n",
              "      <td>840.973380</td>\n",
              "      <td>4469.454870</td>\n",
              "      <td>3210.701700</td>\n",
              "      <td>1734.079690</td>\n",
              "      <td>260.544900</td>\n",
              "      <td>3662.065650</td>\n",
              "      <td>2833.608950</td>\n",
              "      <td>463.419500</td>\n",
              "      <td>7393.398440</td>\n",
              "      <td>677.899630</td>\n",
              "    </tr>\n",
              "  </tbody>\n",
              "</table>\n",
              "<p>8 rows × 91 columns</p>\n",
              "</div>\n",
              "    <div class=\"colab-df-buttons\">\n",
              "\n",
              "  <div class=\"colab-df-container\">\n",
              "    <button class=\"colab-df-convert\" onclick=\"convertToInteractive('df-a643b519-5e79-48be-a2a1-1a01f57f9cb5')\"\n",
              "            title=\"Convert this dataframe to an interactive table.\"\n",
              "            style=\"display:none;\">\n",
              "\n",
              "  <svg xmlns=\"http://www.w3.org/2000/svg\" height=\"24px\" viewBox=\"0 -960 960 960\">\n",
              "    <path d=\"M120-120v-720h720v720H120Zm60-500h600v-160H180v160Zm220 220h160v-160H400v160Zm0 220h160v-160H400v160ZM180-400h160v-160H180v160Zm440 0h160v-160H620v160ZM180-180h160v-160H180v160Zm440 0h160v-160H620v160Z\"/>\n",
              "  </svg>\n",
              "    </button>\n",
              "\n",
              "  <style>\n",
              "    .colab-df-container {\n",
              "      display:flex;\n",
              "      gap: 12px;\n",
              "    }\n",
              "\n",
              "    .colab-df-convert {\n",
              "      background-color: #E8F0FE;\n",
              "      border: none;\n",
              "      border-radius: 50%;\n",
              "      cursor: pointer;\n",
              "      display: none;\n",
              "      fill: #1967D2;\n",
              "      height: 32px;\n",
              "      padding: 0 0 0 0;\n",
              "      width: 32px;\n",
              "    }\n",
              "\n",
              "    .colab-df-convert:hover {\n",
              "      background-color: #E2EBFA;\n",
              "      box-shadow: 0px 1px 2px rgba(60, 64, 67, 0.3), 0px 1px 3px 1px rgba(60, 64, 67, 0.15);\n",
              "      fill: #174EA6;\n",
              "    }\n",
              "\n",
              "    .colab-df-buttons div {\n",
              "      margin-bottom: 4px;\n",
              "    }\n",
              "\n",
              "    [theme=dark] .colab-df-convert {\n",
              "      background-color: #3B4455;\n",
              "      fill: #D2E3FC;\n",
              "    }\n",
              "\n",
              "    [theme=dark] .colab-df-convert:hover {\n",
              "      background-color: #434B5C;\n",
              "      box-shadow: 0px 1px 3px 1px rgba(0, 0, 0, 0.15);\n",
              "      filter: drop-shadow(0px 1px 2px rgba(0, 0, 0, 0.3));\n",
              "      fill: #FFFFFF;\n",
              "    }\n",
              "  </style>\n",
              "\n",
              "    <script>\n",
              "      const buttonEl =\n",
              "        document.querySelector('#df-a643b519-5e79-48be-a2a1-1a01f57f9cb5 button.colab-df-convert');\n",
              "      buttonEl.style.display =\n",
              "        google.colab.kernel.accessAllowed ? 'block' : 'none';\n",
              "\n",
              "      async function convertToInteractive(key) {\n",
              "        const element = document.querySelector('#df-a643b519-5e79-48be-a2a1-1a01f57f9cb5');\n",
              "        const dataTable =\n",
              "          await google.colab.kernel.invokeFunction('convertToInteractive',\n",
              "                                                    [key], {});\n",
              "        if (!dataTable) return;\n",
              "\n",
              "        const docLinkHtml = 'Like what you see? Visit the ' +\n",
              "          '<a target=\"_blank\" href=https://colab.research.google.com/notebooks/data_table.ipynb>data table notebook</a>'\n",
              "          + ' to learn more about interactive tables.';\n",
              "        element.innerHTML = '';\n",
              "        dataTable['output_type'] = 'display_data';\n",
              "        await google.colab.output.renderOutput(dataTable, element);\n",
              "        const docLink = document.createElement('div');\n",
              "        docLink.innerHTML = docLinkHtml;\n",
              "        element.appendChild(docLink);\n",
              "      }\n",
              "    </script>\n",
              "  </div>\n",
              "\n",
              "\n",
              "    <div id=\"df-37fe6b92-7e67-47ed-9857-021ad26689ca\">\n",
              "      <button class=\"colab-df-quickchart\" onclick=\"quickchart('df-37fe6b92-7e67-47ed-9857-021ad26689ca')\"\n",
              "                title=\"Suggest charts\"\n",
              "                style=\"display:none;\">\n",
              "\n",
              "<svg xmlns=\"http://www.w3.org/2000/svg\" height=\"24px\"viewBox=\"0 0 24 24\"\n",
              "     width=\"24px\">\n",
              "    <g>\n",
              "        <path d=\"M19 3H5c-1.1 0-2 .9-2 2v14c0 1.1.9 2 2 2h14c1.1 0 2-.9 2-2V5c0-1.1-.9-2-2-2zM9 17H7v-7h2v7zm4 0h-2V7h2v10zm4 0h-2v-4h2v4z\"/>\n",
              "    </g>\n",
              "</svg>\n",
              "      </button>\n",
              "\n",
              "<style>\n",
              "  .colab-df-quickchart {\n",
              "      --bg-color: #E8F0FE;\n",
              "      --fill-color: #1967D2;\n",
              "      --hover-bg-color: #E2EBFA;\n",
              "      --hover-fill-color: #174EA6;\n",
              "      --disabled-fill-color: #AAA;\n",
              "      --disabled-bg-color: #DDD;\n",
              "  }\n",
              "\n",
              "  [theme=dark] .colab-df-quickchart {\n",
              "      --bg-color: #3B4455;\n",
              "      --fill-color: #D2E3FC;\n",
              "      --hover-bg-color: #434B5C;\n",
              "      --hover-fill-color: #FFFFFF;\n",
              "      --disabled-bg-color: #3B4455;\n",
              "      --disabled-fill-color: #666;\n",
              "  }\n",
              "\n",
              "  .colab-df-quickchart {\n",
              "    background-color: var(--bg-color);\n",
              "    border: none;\n",
              "    border-radius: 50%;\n",
              "    cursor: pointer;\n",
              "    display: none;\n",
              "    fill: var(--fill-color);\n",
              "    height: 32px;\n",
              "    padding: 0;\n",
              "    width: 32px;\n",
              "  }\n",
              "\n",
              "  .colab-df-quickchart:hover {\n",
              "    background-color: var(--hover-bg-color);\n",
              "    box-shadow: 0 1px 2px rgba(60, 64, 67, 0.3), 0 1px 3px 1px rgba(60, 64, 67, 0.15);\n",
              "    fill: var(--button-hover-fill-color);\n",
              "  }\n",
              "\n",
              "  .colab-df-quickchart-complete:disabled,\n",
              "  .colab-df-quickchart-complete:disabled:hover {\n",
              "    background-color: var(--disabled-bg-color);\n",
              "    fill: var(--disabled-fill-color);\n",
              "    box-shadow: none;\n",
              "  }\n",
              "\n",
              "  .colab-df-spinner {\n",
              "    border: 2px solid var(--fill-color);\n",
              "    border-color: transparent;\n",
              "    border-bottom-color: var(--fill-color);\n",
              "    animation:\n",
              "      spin 1s steps(1) infinite;\n",
              "  }\n",
              "\n",
              "  @keyframes spin {\n",
              "    0% {\n",
              "      border-color: transparent;\n",
              "      border-bottom-color: var(--fill-color);\n",
              "      border-left-color: var(--fill-color);\n",
              "    }\n",
              "    20% {\n",
              "      border-color: transparent;\n",
              "      border-left-color: var(--fill-color);\n",
              "      border-top-color: var(--fill-color);\n",
              "    }\n",
              "    30% {\n",
              "      border-color: transparent;\n",
              "      border-left-color: var(--fill-color);\n",
              "      border-top-color: var(--fill-color);\n",
              "      border-right-color: var(--fill-color);\n",
              "    }\n",
              "    40% {\n",
              "      border-color: transparent;\n",
              "      border-right-color: var(--fill-color);\n",
              "      border-top-color: var(--fill-color);\n",
              "    }\n",
              "    60% {\n",
              "      border-color: transparent;\n",
              "      border-right-color: var(--fill-color);\n",
              "    }\n",
              "    80% {\n",
              "      border-color: transparent;\n",
              "      border-right-color: var(--fill-color);\n",
              "      border-bottom-color: var(--fill-color);\n",
              "    }\n",
              "    90% {\n",
              "      border-color: transparent;\n",
              "      border-bottom-color: var(--fill-color);\n",
              "    }\n",
              "  }\n",
              "</style>\n",
              "\n",
              "      <script>\n",
              "        async function quickchart(key) {\n",
              "          const quickchartButtonEl =\n",
              "            document.querySelector('#' + key + ' button');\n",
              "          quickchartButtonEl.disabled = true;  // To prevent multiple clicks.\n",
              "          quickchartButtonEl.classList.add('colab-df-spinner');\n",
              "          try {\n",
              "            const charts = await google.colab.kernel.invokeFunction(\n",
              "                'suggestCharts', [key], {});\n",
              "          } catch (error) {\n",
              "            console.error('Error during call to suggestCharts:', error);\n",
              "          }\n",
              "          quickchartButtonEl.classList.remove('colab-df-spinner');\n",
              "          quickchartButtonEl.classList.add('colab-df-quickchart-complete');\n",
              "        }\n",
              "        (() => {\n",
              "          let quickchartButtonEl =\n",
              "            document.querySelector('#df-37fe6b92-7e67-47ed-9857-021ad26689ca button');\n",
              "          quickchartButtonEl.style.display =\n",
              "            google.colab.kernel.accessAllowed ? 'block' : 'none';\n",
              "        })();\n",
              "      </script>\n",
              "    </div>\n",
              "\n",
              "    </div>\n",
              "  </div>\n"
            ],
            "application/vnd.google.colaboratory.intrinsic+json": {
              "type": "dataframe"
            }
          },
          "metadata": {},
          "execution_count": 99
        }
      ]
    },
    {
      "cell_type": "code",
      "source": [
        "df.info()"
      ],
      "metadata": {
        "colab": {
          "base_uri": "https://localhost:8080/"
        },
        "id": "7AdZ2WQZF7BZ",
        "outputId": "903d837b-fe68-4be5-b6e1-8c1bfebce71f"
      },
      "execution_count": 100,
      "outputs": [
        {
          "output_type": "stream",
          "name": "stdout",
          "text": [
            "<class 'pandas.core.frame.DataFrame'>\n",
            "RangeIndex: 515344 entries, 0 to 515343\n",
            "Data columns (total 91 columns):\n",
            " #   Column      Non-Null Count   Dtype  \n",
            "---  ------      --------------   -----  \n",
            " 0   2001        515344 non-null  int64  \n",
            " 1   49.94357    515344 non-null  float64\n",
            " 2   21.47114    515344 non-null  float64\n",
            " 3   73.0775     515344 non-null  float64\n",
            " 4   8.74861     515344 non-null  float64\n",
            " 5   -17.40628   515344 non-null  float64\n",
            " 6   -13.09905   515344 non-null  float64\n",
            " 7   -25.01202   515344 non-null  float64\n",
            " 8   -12.23257   515344 non-null  float64\n",
            " 9   7.83089     515344 non-null  float64\n",
            " 10  -2.46783    515344 non-null  float64\n",
            " 11  3.32136     515344 non-null  float64\n",
            " 12  -2.31521    515344 non-null  float64\n",
            " 13  10.20556    515344 non-null  float64\n",
            " 14  611.10913   515344 non-null  float64\n",
            " 15  951.0896    515344 non-null  float64\n",
            " 16  698.11428   515344 non-null  float64\n",
            " 17  408.98485   515344 non-null  float64\n",
            " 18  383.70912   515344 non-null  float64\n",
            " 19  326.51512   515344 non-null  float64\n",
            " 20  238.11327   515344 non-null  float64\n",
            " 21  251.42414   515344 non-null  float64\n",
            " 22  187.17351   515344 non-null  float64\n",
            " 23  100.42652   515344 non-null  float64\n",
            " 24  179.19498   515344 non-null  float64\n",
            " 25  -8.41558    515344 non-null  float64\n",
            " 26  -317.87038  515344 non-null  float64\n",
            " 27  95.86266    515344 non-null  float64\n",
            " 28  48.10259    515344 non-null  float64\n",
            " 29  -95.66303   515344 non-null  float64\n",
            " 30  -18.06215   515344 non-null  float64\n",
            " 31  1.96984     515344 non-null  float64\n",
            " 32  34.42438    515344 non-null  float64\n",
            " 33  11.7267     515344 non-null  float64\n",
            " 34  1.3679      515344 non-null  float64\n",
            " 35  7.79444     515344 non-null  float64\n",
            " 36  -0.36994    515344 non-null  float64\n",
            " 37  -133.67852  515344 non-null  float64\n",
            " 38  -83.26165   515344 non-null  float64\n",
            " 39  -37.29765   515344 non-null  float64\n",
            " 40  73.04667    515344 non-null  float64\n",
            " 41  -37.36684   515344 non-null  float64\n",
            " 42  -3.13853    515344 non-null  float64\n",
            " 43  -24.21531   515344 non-null  float64\n",
            " 44  -13.23066   515344 non-null  float64\n",
            " 45  15.93809    515344 non-null  float64\n",
            " 46  -18.60478   515344 non-null  float64\n",
            " 47  82.15479    515344 non-null  float64\n",
            " 48  240.5798    515344 non-null  float64\n",
            " 49  -10.29407   515344 non-null  float64\n",
            " 50  31.58431    515344 non-null  float64\n",
            " 51  -25.38187   515344 non-null  float64\n",
            " 52  -3.90772    515344 non-null  float64\n",
            " 53  13.29258    515344 non-null  float64\n",
            " 54  41.5506     515344 non-null  float64\n",
            " 55  -7.26272    515344 non-null  float64\n",
            " 56  -21.00863   515344 non-null  float64\n",
            " 57  105.50848   515344 non-null  float64\n",
            " 58  64.29856    515344 non-null  float64\n",
            " 59  26.08481    515344 non-null  float64\n",
            " 60  -44.5911    515344 non-null  float64\n",
            " 61  -8.30657    515344 non-null  float64\n",
            " 62  7.93706     515344 non-null  float64\n",
            " 63  -10.7366    515344 non-null  float64\n",
            " 64  -95.44766   515344 non-null  float64\n",
            " 65  -82.03307   515344 non-null  float64\n",
            " 66  -35.59194   515344 non-null  float64\n",
            " 67  4.69525     515344 non-null  float64\n",
            " 68  70.95626    515344 non-null  float64\n",
            " 69  28.09139    515344 non-null  float64\n",
            " 70  6.02015     515344 non-null  float64\n",
            " 71  -37.13767   515344 non-null  float64\n",
            " 72  -41.1245    515344 non-null  float64\n",
            " 73  -8.40816    515344 non-null  float64\n",
            " 74  7.19877     515344 non-null  float64\n",
            " 75  -8.60176    515344 non-null  float64\n",
            " 76  -5.90857    515344 non-null  float64\n",
            " 77  -12.32437   515344 non-null  float64\n",
            " 78  14.68734    515344 non-null  float64\n",
            " 79  -54.32125   515344 non-null  float64\n",
            " 80  40.14786    515344 non-null  float64\n",
            " 81  13.0162     515344 non-null  float64\n",
            " 82  -54.40548   515344 non-null  float64\n",
            " 83  58.99367    515344 non-null  float64\n",
            " 84  15.37344    515344 non-null  float64\n",
            " 85  1.11144     515344 non-null  float64\n",
            " 86  -23.08793   515344 non-null  float64\n",
            " 87  68.40795    515344 non-null  float64\n",
            " 88  -1.82223    515344 non-null  float64\n",
            " 89  -27.46348   515344 non-null  float64\n",
            " 90  2.26327     515344 non-null  float64\n",
            "dtypes: float64(90), int64(1)\n",
            "memory usage: 357.8 MB\n"
          ]
        }
      ]
    },
    {
      "cell_type": "code",
      "source": [
        "print(\"Jumlah nilai kosong:\", df.isnull().sum().sum())"
      ],
      "metadata": {
        "colab": {
          "base_uri": "https://localhost:8080/"
        },
        "id": "jUYw-T1nIjHU",
        "outputId": "2e6f8c94-4b31-4427-f2c3-caca2a432025"
      },
      "execution_count": 101,
      "outputs": [
        {
          "output_type": "stream",
          "name": "stdout",
          "text": [
            "Jumlah nilai kosong: 0\n"
          ]
        }
      ]
    },
    {
      "cell_type": "code",
      "source": [
        "df.dropna(inplace=True)"
      ],
      "metadata": {
        "id": "lZ9PiG3Lk0Xy"
      },
      "execution_count": 102,
      "outputs": []
    },
    {
      "cell_type": "code",
      "source": [
        "df.duplicated().sum()"
      ],
      "metadata": {
        "colab": {
          "base_uri": "https://localhost:8080/"
        },
        "id": "qiIX6E9Vk8tn",
        "outputId": "053bfaa8-405e-4513-fc5d-dbe82a9c58e8"
      },
      "execution_count": 103,
      "outputs": [
        {
          "output_type": "execute_result",
          "data": {
            "text/plain": [
              "np.int64(214)"
            ]
          },
          "metadata": {},
          "execution_count": 103
        }
      ]
    },
    {
      "cell_type": "code",
      "source": [
        "df.drop_duplicates(inplace=True)"
      ],
      "metadata": {
        "id": "lP7Kyxcalit8"
      },
      "execution_count": 104,
      "outputs": []
    },
    {
      "cell_type": "code",
      "source": [
        "Q1 = df.quantile(0.25)\n",
        "Q3 = df.quantile(0.75)\n",
        "IQR = Q3 - Q1"
      ],
      "metadata": {
        "id": "0kyZNyGC4jFy"
      },
      "execution_count": 105,
      "outputs": []
    },
    {
      "cell_type": "code",
      "source": [
        "outliers = ((df < (Q1 - 1.5 * IQR)) | (df > (Q3 + 1.5 * IQR)))\n",
        "print(\"Jumlah outlier per kolom:\")\n",
        "print(outliers.sum())"
      ],
      "metadata": {
        "colab": {
          "base_uri": "https://localhost:8080/"
        },
        "id": "L_NYupg645JB",
        "outputId": "092c3a42-c4b6-49be-8acf-385cd363d29b"
      },
      "execution_count": 106,
      "outputs": [
        {
          "output_type": "stream",
          "name": "stdout",
          "text": [
            "Jumlah outlier per kolom:\n",
            "2001         29695\n",
            "49.94357     10620\n",
            "21.47114     14641\n",
            "73.0775      15626\n",
            "8.74861      22677\n",
            "             ...  \n",
            "-23.08793    33863\n",
            "68.40795     32695\n",
            "-1.82223     30390\n",
            "-27.46348    39134\n",
            "2.26327      39458\n",
            "Length: 91, dtype: int64\n"
          ]
        }
      ]
    },
    {
      "cell_type": "code",
      "source": [
        "df = df[~outliers.any(axis=1)]\n",
        "print(\"\\nJumlah outlier setelah pembersihan:\")\n",
        "Q1_clean = df.quantile(0.25)\n",
        "Q3_clean = df.quantile(0.75)\n",
        "IQR_clean = Q3_clean - Q1_clean\n",
        "\n",
        "outliers_clean = ((df < (Q1_clean - 1.5 * IQR_clean)) | (df > (Q3_clean + 1.5 * IQR_clean)))\n",
        "print(outliers_clean.sum())"
      ],
      "metadata": {
        "colab": {
          "base_uri": "https://localhost:8080/"
        },
        "id": "-RxRJjpw4-ze",
        "outputId": "43c60abd-62b1-41cb-ede8-d019844de11e"
      },
      "execution_count": 107,
      "outputs": [
        {
          "output_type": "stream",
          "name": "stdout",
          "text": [
            "\n",
            "Jumlah outlier setelah pembersihan:\n",
            "2001         3571\n",
            "49.94357     2088\n",
            "21.47114     2663\n",
            "73.0775      3008\n",
            "8.74861      3001\n",
            "             ... \n",
            "-23.08793    4360\n",
            "68.40795     5096\n",
            "-1.82223     5062\n",
            "-27.46348    5568\n",
            "2.26327      7593\n",
            "Length: 91, dtype: int64\n"
          ]
        }
      ]
    },
    {
      "cell_type": "code",
      "source": [
        "target = '2001'\n",
        "X = df.drop(columns=target)\n",
        "y = df[target]"
      ],
      "metadata": {
        "id": "9oh-WVAeJBdQ"
      },
      "execution_count": 108,
      "outputs": []
    },
    {
      "cell_type": "code",
      "source": [
        "numerical_features = X.select_dtypes(include=[np.number]).columns.tolist()\n",
        "categorical_features = X.select_dtypes(exclude=[np.number]).columns.tolist()\n",
        "print(f\"Numerical features: {numerical_features}\")\n",
        "print(f\"Categorical features: {categorical_features}\")"
      ],
      "metadata": {
        "colab": {
          "base_uri": "https://localhost:8080/"
        },
        "id": "hSoN9dOJ-EBY",
        "outputId": "300fe66c-8bad-4114-8356-b5d656a94b6d"
      },
      "execution_count": 109,
      "outputs": [
        {
          "output_type": "stream",
          "name": "stdout",
          "text": [
            "Numerical features: ['49.94357', '21.47114', '73.0775', '8.74861', '-17.40628', '-13.09905', '-25.01202', '-12.23257', '7.83089', '-2.46783', '3.32136', '-2.31521', '10.20556', '611.10913', '951.0896', '698.11428', '408.98485', '383.70912', '326.51512', '238.11327', '251.42414', '187.17351', '100.42652', '179.19498', '-8.41558', '-317.87038', '95.86266', '48.10259', '-95.66303', '-18.06215', '1.96984', '34.42438', '11.7267', '1.3679', '7.79444', '-0.36994', '-133.67852', '-83.26165', '-37.29765', '73.04667', '-37.36684', '-3.13853', '-24.21531', '-13.23066', '15.93809', '-18.60478', '82.15479', '240.5798', '-10.29407', '31.58431', '-25.38187', '-3.90772', '13.29258', '41.5506', '-7.26272', '-21.00863', '105.50848', '64.29856', '26.08481', '-44.5911', '-8.30657', '7.93706', '-10.7366', '-95.44766', '-82.03307', '-35.59194', '4.69525', '70.95626', '28.09139', '6.02015', '-37.13767', '-41.1245', '-8.40816', '7.19877', '-8.60176', '-5.90857', '-12.32437', '14.68734', '-54.32125', '40.14786', '13.0162', '-54.40548', '58.99367', '15.37344', '1.11144', '-23.08793', '68.40795', '-1.82223', '-27.46348', '2.26327']\n",
            "Categorical features: []\n"
          ]
        }
      ]
    },
    {
      "cell_type": "code",
      "source": [
        "from sklearn.compose import ColumnTransformer\n",
        "to_scale = StandardScaler()\n",
        "# Jika ada fitur kategorikal gunakan OneHotEncoder dalam ColumnTransformer\n",
        "preprocessor = ColumnTransformer([\n",
        "    ('num', StandardScaler(), numerical_features),\n",
        "    ('cat', OneHotEncoder(handle_unknown='ignore'), categorical_features)\n",
        "])\n",
        "X_processed = preprocessor.fit_transform(X)"
      ],
      "metadata": {
        "id": "EldJnYpQ-L6G"
      },
      "execution_count": 110,
      "outputs": []
    },
    {
      "cell_type": "code",
      "source": [
        "X_train, X_test, y_train, y_test = train_test_split(X, y, test_size=0.2, random_state=42)"
      ],
      "metadata": {
        "id": "Hgi_bua7MvPH"
      },
      "execution_count": 111,
      "outputs": []
    },
    {
      "cell_type": "code",
      "source": [
        "y_train"
      ],
      "metadata": {
        "colab": {
          "base_uri": "https://localhost:8080/",
          "height": 458
        },
        "id": "O69sB9pko3Yq",
        "outputId": "17dbaa1e-aed7-440c-ce9e-6c2337ad5206"
      },
      "execution_count": 112,
      "outputs": [
        {
          "output_type": "execute_result",
          "data": {
            "text/plain": [
              "182252    1993\n",
              "52461     2006\n",
              "25903     1977\n",
              "37722     2002\n",
              "378209    1987\n",
              "          ... \n",
              "341219    1978\n",
              "295791    2008\n",
              "377700    1987\n",
              "420451    2006\n",
              "346966    2006\n",
              "Name: 2001, Length: 143546, dtype: int64"
            ],
            "text/html": [
              "<div>\n",
              "<style scoped>\n",
              "    .dataframe tbody tr th:only-of-type {\n",
              "        vertical-align: middle;\n",
              "    }\n",
              "\n",
              "    .dataframe tbody tr th {\n",
              "        vertical-align: top;\n",
              "    }\n",
              "\n",
              "    .dataframe thead th {\n",
              "        text-align: right;\n",
              "    }\n",
              "</style>\n",
              "<table border=\"1\" class=\"dataframe\">\n",
              "  <thead>\n",
              "    <tr style=\"text-align: right;\">\n",
              "      <th></th>\n",
              "      <th>2001</th>\n",
              "    </tr>\n",
              "  </thead>\n",
              "  <tbody>\n",
              "    <tr>\n",
              "      <th>182252</th>\n",
              "      <td>1993</td>\n",
              "    </tr>\n",
              "    <tr>\n",
              "      <th>52461</th>\n",
              "      <td>2006</td>\n",
              "    </tr>\n",
              "    <tr>\n",
              "      <th>25903</th>\n",
              "      <td>1977</td>\n",
              "    </tr>\n",
              "    <tr>\n",
              "      <th>37722</th>\n",
              "      <td>2002</td>\n",
              "    </tr>\n",
              "    <tr>\n",
              "      <th>378209</th>\n",
              "      <td>1987</td>\n",
              "    </tr>\n",
              "    <tr>\n",
              "      <th>...</th>\n",
              "      <td>...</td>\n",
              "    </tr>\n",
              "    <tr>\n",
              "      <th>341219</th>\n",
              "      <td>1978</td>\n",
              "    </tr>\n",
              "    <tr>\n",
              "      <th>295791</th>\n",
              "      <td>2008</td>\n",
              "    </tr>\n",
              "    <tr>\n",
              "      <th>377700</th>\n",
              "      <td>1987</td>\n",
              "    </tr>\n",
              "    <tr>\n",
              "      <th>420451</th>\n",
              "      <td>2006</td>\n",
              "    </tr>\n",
              "    <tr>\n",
              "      <th>346966</th>\n",
              "      <td>2006</td>\n",
              "    </tr>\n",
              "  </tbody>\n",
              "</table>\n",
              "<p>143546 rows × 1 columns</p>\n",
              "</div><br><label><b>dtype:</b> int64</label>"
            ]
          },
          "metadata": {},
          "execution_count": 112
        }
      ]
    },
    {
      "cell_type": "code",
      "source": [
        "y_test"
      ],
      "metadata": {
        "colab": {
          "base_uri": "https://localhost:8080/",
          "height": 458
        },
        "id": "8N4UpDnopmCG",
        "outputId": "baf398d1-d77c-438e-97b9-bae03c8932a4"
      },
      "execution_count": 113,
      "outputs": [
        {
          "output_type": "execute_result",
          "data": {
            "text/plain": [
              "51347     1995\n",
              "127308    2010\n",
              "57803     1989\n",
              "290300    1997\n",
              "157667    2000\n",
              "          ... \n",
              "397326    2005\n",
              "393523    2001\n",
              "486860    1989\n",
              "253950    2004\n",
              "346973    2002\n",
              "Name: 2001, Length: 35887, dtype: int64"
            ],
            "text/html": [
              "<div>\n",
              "<style scoped>\n",
              "    .dataframe tbody tr th:only-of-type {\n",
              "        vertical-align: middle;\n",
              "    }\n",
              "\n",
              "    .dataframe tbody tr th {\n",
              "        vertical-align: top;\n",
              "    }\n",
              "\n",
              "    .dataframe thead th {\n",
              "        text-align: right;\n",
              "    }\n",
              "</style>\n",
              "<table border=\"1\" class=\"dataframe\">\n",
              "  <thead>\n",
              "    <tr style=\"text-align: right;\">\n",
              "      <th></th>\n",
              "      <th>2001</th>\n",
              "    </tr>\n",
              "  </thead>\n",
              "  <tbody>\n",
              "    <tr>\n",
              "      <th>51347</th>\n",
              "      <td>1995</td>\n",
              "    </tr>\n",
              "    <tr>\n",
              "      <th>127308</th>\n",
              "      <td>2010</td>\n",
              "    </tr>\n",
              "    <tr>\n",
              "      <th>57803</th>\n",
              "      <td>1989</td>\n",
              "    </tr>\n",
              "    <tr>\n",
              "      <th>290300</th>\n",
              "      <td>1997</td>\n",
              "    </tr>\n",
              "    <tr>\n",
              "      <th>157667</th>\n",
              "      <td>2000</td>\n",
              "    </tr>\n",
              "    <tr>\n",
              "      <th>...</th>\n",
              "      <td>...</td>\n",
              "    </tr>\n",
              "    <tr>\n",
              "      <th>397326</th>\n",
              "      <td>2005</td>\n",
              "    </tr>\n",
              "    <tr>\n",
              "      <th>393523</th>\n",
              "      <td>2001</td>\n",
              "    </tr>\n",
              "    <tr>\n",
              "      <th>486860</th>\n",
              "      <td>1989</td>\n",
              "    </tr>\n",
              "    <tr>\n",
              "      <th>253950</th>\n",
              "      <td>2004</td>\n",
              "    </tr>\n",
              "    <tr>\n",
              "      <th>346973</th>\n",
              "      <td>2002</td>\n",
              "    </tr>\n",
              "  </tbody>\n",
              "</table>\n",
              "<p>35887 rows × 1 columns</p>\n",
              "</div><br><label><b>dtype:</b> int64</label>"
            ]
          },
          "metadata": {},
          "execution_count": 113
        }
      ]
    },
    {
      "cell_type": "code",
      "source": [
        "y_train.shape"
      ],
      "metadata": {
        "colab": {
          "base_uri": "https://localhost:8080/"
        },
        "id": "pe6Q8gYhpr8U",
        "outputId": "6bc07815-1668-401d-8670-d5b74df0e8b5"
      },
      "execution_count": 114,
      "outputs": [
        {
          "output_type": "execute_result",
          "data": {
            "text/plain": [
              "(143546,)"
            ]
          },
          "metadata": {},
          "execution_count": 114
        }
      ]
    },
    {
      "cell_type": "code",
      "source": [
        "scaler = StandardScaler()\n",
        "X_train = scaler.fit_transform(X_train)\n",
        "X_test = scaler.transform(X_test)"
      ],
      "metadata": {
        "id": "Fivj6fqlJIls"
      },
      "execution_count": 116,
      "outputs": []
    },
    {
      "cell_type": "code",
      "source": [
        "y_train = y_train.to_numpy()\n",
        "y_test = y_test.to_numpy()\n",
        "\n",
        "scaler_y = StandardScaler()\n",
        "y_train = scaler_y.fit_transform(y_train.reshape(-1, 1)).ravel()\n",
        "y_test = scaler_y.transform(y_test.reshape(-1, 1)).ravel()"
      ],
      "metadata": {
        "id": "wHCWdhbqrj_I"
      },
      "execution_count": 117,
      "outputs": []
    },
    {
      "cell_type": "code",
      "source": [
        "\n",
        "early_stop = EarlyStopping(\n",
        "    monitor='val_loss',\n",
        "    patience=5,\n",
        "    restore_best_weights=True\n",
        ")\n",
        "# Membangun model regresi\n",
        "model = Sequential([\n",
        "    Dense(256, activation='relu', input_shape=(X_train.shape[1],)),\n",
        "    Dense(128, activation='relu'),\n",
        "    Dense(64, activation='relu'),\n",
        "    Dense(1)\n",
        "])"
      ],
      "metadata": {
        "colab": {
          "base_uri": "https://localhost:8080/"
        },
        "id": "2gwNvWsnM2Tp",
        "outputId": "3bbb3d50-a7e2-4fbe-dfba-329af463ef2a"
      },
      "execution_count": 118,
      "outputs": [
        {
          "output_type": "stream",
          "name": "stderr",
          "text": [
            "/usr/local/lib/python3.11/dist-packages/keras/src/layers/core/dense.py:87: UserWarning: Do not pass an `input_shape`/`input_dim` argument to a layer. When using Sequential models, prefer using an `Input(shape)` object as the first layer in the model instead.\n",
            "  super().__init__(activity_regularizer=activity_regularizer, **kwargs)\n"
          ]
        }
      ]
    },
    {
      "cell_type": "code",
      "source": [
        "model.compile(optimizer='adam', loss='mse')"
      ],
      "metadata": {
        "id": "OviDIvxzNLwS"
      },
      "execution_count": 119,
      "outputs": []
    },
    {
      "cell_type": "code",
      "source": [
        "history = model.fit(X_train, y_train, validation_split=0.2, epochs=100, batch_size=32, verbose=1, callbacks=[early_stop]) #callbacks=[early_stop]"
      ],
      "metadata": {
        "colab": {
          "base_uri": "https://localhost:8080/"
        },
        "id": "WSuXEUcnNXNb",
        "outputId": "28f9307b-6327-4e02-df6e-f36c3d7dcf06"
      },
      "execution_count": 120,
      "outputs": [
        {
          "output_type": "stream",
          "name": "stdout",
          "text": [
            "Epoch 1/100\n",
            "\u001b[1m3589/3589\u001b[0m \u001b[32m━━━━━━━━━━━━━━━━━━━━\u001b[0m\u001b[37m\u001b[0m \u001b[1m14s\u001b[0m 3ms/step - loss: 0.7213 - val_loss: 0.6095\n",
            "Epoch 2/100\n",
            "\u001b[1m3589/3589\u001b[0m \u001b[32m━━━━━━━━━━━━━━━━━━━━\u001b[0m\u001b[37m\u001b[0m \u001b[1m10s\u001b[0m 3ms/step - loss: 0.5867 - val_loss: 0.6008\n",
            "Epoch 3/100\n",
            "\u001b[1m3589/3589\u001b[0m \u001b[32m━━━━━━━━━━━━━━━━━━━━\u001b[0m\u001b[37m\u001b[0m \u001b[1m10s\u001b[0m 3ms/step - loss: 0.5770 - val_loss: 0.5897\n",
            "Epoch 4/100\n",
            "\u001b[1m3589/3589\u001b[0m \u001b[32m━━━━━━━━━━━━━━━━━━━━\u001b[0m\u001b[37m\u001b[0m \u001b[1m11s\u001b[0m 3ms/step - loss: 0.5678 - val_loss: 0.5857\n",
            "Epoch 5/100\n",
            "\u001b[1m3589/3589\u001b[0m \u001b[32m━━━━━━━━━━━━━━━━━━━━\u001b[0m\u001b[37m\u001b[0m \u001b[1m10s\u001b[0m 3ms/step - loss: 0.5542 - val_loss: 0.5826\n",
            "Epoch 6/100\n",
            "\u001b[1m3589/3589\u001b[0m \u001b[32m━━━━━━━━━━━━━━━━━━━━\u001b[0m\u001b[37m\u001b[0m \u001b[1m20s\u001b[0m 3ms/step - loss: 0.5517 - val_loss: 0.5780\n",
            "Epoch 7/100\n",
            "\u001b[1m3589/3589\u001b[0m \u001b[32m━━━━━━━━━━━━━━━━━━━━\u001b[0m\u001b[37m\u001b[0m \u001b[1m10s\u001b[0m 3ms/step - loss: 0.5449 - val_loss: 0.5743\n",
            "Epoch 8/100\n",
            "\u001b[1m3589/3589\u001b[0m \u001b[32m━━━━━━━━━━━━━━━━━━━━\u001b[0m\u001b[37m\u001b[0m \u001b[1m11s\u001b[0m 3ms/step - loss: 0.5367 - val_loss: 0.5758\n",
            "Epoch 9/100\n",
            "\u001b[1m3589/3589\u001b[0m \u001b[32m━━━━━━━━━━━━━━━━━━━━\u001b[0m\u001b[37m\u001b[0m \u001b[1m11s\u001b[0m 3ms/step - loss: 0.5376 - val_loss: 0.5808\n",
            "Epoch 10/100\n",
            "\u001b[1m3589/3589\u001b[0m \u001b[32m━━━━━━━━━━━━━━━━━━━━\u001b[0m\u001b[37m\u001b[0m \u001b[1m19s\u001b[0m 3ms/step - loss: 0.5303 - val_loss: 0.5706\n",
            "Epoch 11/100\n",
            "\u001b[1m3589/3589\u001b[0m \u001b[32m━━━━━━━━━━━━━━━━━━━━\u001b[0m\u001b[37m\u001b[0m \u001b[1m9s\u001b[0m 3ms/step - loss: 0.5223 - val_loss: 0.5672\n",
            "Epoch 12/100\n",
            "\u001b[1m3589/3589\u001b[0m \u001b[32m━━━━━━━━━━━━━━━━━━━━\u001b[0m\u001b[37m\u001b[0m \u001b[1m10s\u001b[0m 3ms/step - loss: 0.5232 - val_loss: 0.5853\n",
            "Epoch 13/100\n",
            "\u001b[1m3589/3589\u001b[0m \u001b[32m━━━━━━━━━━━━━━━━━━━━\u001b[0m\u001b[37m\u001b[0m \u001b[1m11s\u001b[0m 3ms/step - loss: 0.5153 - val_loss: 0.5630\n",
            "Epoch 14/100\n",
            "\u001b[1m3589/3589\u001b[0m \u001b[32m━━━━━━━━━━━━━━━━━━━━\u001b[0m\u001b[37m\u001b[0m \u001b[1m20s\u001b[0m 3ms/step - loss: 0.5164 - val_loss: 0.5658\n",
            "Epoch 15/100\n",
            "\u001b[1m3589/3589\u001b[0m \u001b[32m━━━━━━━━━━━━━━━━━━━━\u001b[0m\u001b[37m\u001b[0m \u001b[1m19s\u001b[0m 3ms/step - loss: 0.5158 - val_loss: 0.5645\n",
            "Epoch 16/100\n",
            "\u001b[1m3589/3589\u001b[0m \u001b[32m━━━━━━━━━━━━━━━━━━━━\u001b[0m\u001b[37m\u001b[0m \u001b[1m10s\u001b[0m 3ms/step - loss: 0.5077 - val_loss: 0.5625\n",
            "Epoch 17/100\n",
            "\u001b[1m3589/3589\u001b[0m \u001b[32m━━━━━━━━━━━━━━━━━━━━\u001b[0m\u001b[37m\u001b[0m \u001b[1m10s\u001b[0m 3ms/step - loss: 0.5053 - val_loss: 0.5596\n",
            "Epoch 18/100\n",
            "\u001b[1m3589/3589\u001b[0m \u001b[32m━━━━━━━━━━━━━━━━━━━━\u001b[0m\u001b[37m\u001b[0m \u001b[1m10s\u001b[0m 3ms/step - loss: 0.4983 - val_loss: 0.5653\n",
            "Epoch 19/100\n",
            "\u001b[1m3589/3589\u001b[0m \u001b[32m━━━━━━━━━━━━━━━━━━━━\u001b[0m\u001b[37m\u001b[0m \u001b[1m9s\u001b[0m 3ms/step - loss: 0.4956 - val_loss: 0.5678\n",
            "Epoch 20/100\n",
            "\u001b[1m3589/3589\u001b[0m \u001b[32m━━━━━━━━━━━━━━━━━━━━\u001b[0m\u001b[37m\u001b[0m \u001b[1m11s\u001b[0m 3ms/step - loss: 0.5009 - val_loss: 0.5560\n",
            "Epoch 21/100\n",
            "\u001b[1m3589/3589\u001b[0m \u001b[32m━━━━━━━━━━━━━━━━━━━━\u001b[0m\u001b[37m\u001b[0m \u001b[1m10s\u001b[0m 3ms/step - loss: 0.4987 - val_loss: 0.5603\n",
            "Epoch 22/100\n",
            "\u001b[1m3589/3589\u001b[0m \u001b[32m━━━━━━━━━━━━━━━━━━━━\u001b[0m\u001b[37m\u001b[0m \u001b[1m14s\u001b[0m 4ms/step - loss: 0.4936 - val_loss: 0.5624\n",
            "Epoch 23/100\n",
            "\u001b[1m3589/3589\u001b[0m \u001b[32m━━━━━━━━━━━━━━━━━━━━\u001b[0m\u001b[37m\u001b[0m \u001b[1m10s\u001b[0m 3ms/step - loss: 0.4923 - val_loss: 0.5582\n",
            "Epoch 24/100\n",
            "\u001b[1m3589/3589\u001b[0m \u001b[32m━━━━━━━━━━━━━━━━━━━━\u001b[0m\u001b[37m\u001b[0m \u001b[1m10s\u001b[0m 3ms/step - loss: 0.4890 - val_loss: 0.5613\n",
            "Epoch 25/100\n",
            "\u001b[1m3589/3589\u001b[0m \u001b[32m━━━━━━━━━━━━━━━━━━━━\u001b[0m\u001b[37m\u001b[0m \u001b[1m10s\u001b[0m 3ms/step - loss: 0.4879 - val_loss: 0.5638\n"
          ]
        }
      ]
    },
    {
      "cell_type": "code",
      "source": [
        "y_pred = model.predict(X_test).flatten()\n",
        "mse = mean_squared_error(y_test, y_pred)\n",
        "rmse = np.sqrt(mse)\n",
        "r2 = r2_score(y_test, y_pred)"
      ],
      "metadata": {
        "colab": {
          "base_uri": "https://localhost:8080/"
        },
        "id": "sASGijA2Tjn4",
        "outputId": "146f6db9-c2d0-40ff-cbbd-20d959d68cc6"
      },
      "execution_count": 121,
      "outputs": [
        {
          "output_type": "stream",
          "name": "stdout",
          "text": [
            "\u001b[1m1122/1122\u001b[0m \u001b[32m━━━━━━━━━━━━━━━━━━━━\u001b[0m\u001b[37m\u001b[0m \u001b[1m2s\u001b[0m 1ms/step\n"
          ]
        }
      ]
    },
    {
      "cell_type": "code",
      "source": [
        "y_pred = model.predict(X_test)"
      ],
      "metadata": {
        "colab": {
          "base_uri": "https://localhost:8080/"
        },
        "id": "yfvVD6nJXpEU",
        "outputId": "8cf8bb08-459c-459e-a9a4-7a5bb885fc60"
      },
      "execution_count": 122,
      "outputs": [
        {
          "output_type": "stream",
          "name": "stdout",
          "text": [
            "\u001b[1m1122/1122\u001b[0m \u001b[32m━━━━━━━━━━━━━━━━━━━━\u001b[0m\u001b[37m\u001b[0m \u001b[1m1s\u001b[0m 1ms/step\n"
          ]
        }
      ]
    },
    {
      "cell_type": "code",
      "source": [
        "print(f\"\\n📊 Evaluation Metrics:\")\n",
        "print(f\"Mean Squared Error (MSE): {mse:.2f}\")\n",
        "print(f\"Root Mean Squared Error (RMSE): {rmse:.2f}\")\n",
        "print(f\"R-squared (R²): {r2:.2f}\")"
      ],
      "metadata": {
        "colab": {
          "base_uri": "https://localhost:8080/"
        },
        "id": "ms81kA62TxHx",
        "outputId": "88d6a7bf-893e-470a-f216-ca033ee455a6"
      },
      "execution_count": 123,
      "outputs": [
        {
          "output_type": "stream",
          "name": "stdout",
          "text": [
            "\n",
            "📊 Evaluation Metrics:\n",
            "Mean Squared Error (MSE): 0.55\n",
            "Root Mean Squared Error (RMSE): 0.74\n",
            "R-squared (R²): 0.46\n"
          ]
        }
      ]
    },
    {
      "cell_type": "code",
      "source": [
        "y_test.min(), y_test.max()"
      ],
      "metadata": {
        "colab": {
          "base_uri": "https://localhost:8080/"
        },
        "id": "_U4D1KG2sz8B",
        "outputId": "0321891b-1c9a-46c4-d57a-31005e0af22e"
      },
      "execution_count": 124,
      "outputs": [
        {
          "output_type": "execute_result",
          "data": {
            "text/plain": [
              "(np.float64(-2.9169596920885867), np.float64(1.3881927447210252))"
            ]
          },
          "metadata": {},
          "execution_count": 124
        }
      ]
    },
    {
      "cell_type": "code",
      "source": [
        "plt.figure(figsize=(10,6))\n",
        "plt.scatter(y_test, y_pred, alpha=0.3, color='blue')\n",
        "plt.xlabel(\"Actual Values\")\n",
        "plt.ylabel(\"Predicted Values\")\n",
        "plt.title(\"Predicted vs Actual Values\")\n",
        "plt.grid(True)\n",
        "plt.plot([y_test.min(), y_test.max()], [y_test.min(), y_test.max()], 'r--')\n",
        "plt.show()"
      ],
      "metadata": {
        "colab": {
          "base_uri": "https://localhost:8080/",
          "height": 424
        },
        "id": "35l8SKpGT65q",
        "outputId": "8de246cd-6052-4add-efc1-3d4eafc68bcb"
      },
      "execution_count": 125,
      "outputs": [
        {
          "output_type": "display_data",
          "data": {
            "text/plain": [
              "<Figure size 1000x600 with 1 Axes>"
            ],
            "image/png": "[encoded data removed]"
          },
          "metadata": {}
        }
      ]
    },
    {
      "cell_type": "code",
      "source": [
        "plt.figure(figsize=(6,4))\n",
        "plt.bar(['MSE'], [mse], color='skyblue')\n",
        "plt.title(\"Mean Squared Error\")\n",
        "plt.ylabel(\"MSE\")\n",
        "plt.grid(axis='y')\n",
        "plt.show()"
      ],
      "metadata": {
        "colab": {
          "base_uri": "https://localhost:8080/",
          "height": 391
        },
        "id": "AA8BCtESUAgJ",
        "outputId": "5ba52375-b033-486a-f586-39330548877f"
      },
      "execution_count": 126,
      "outputs": [
        {
          "output_type": "display_data",
          "data": {
            "text/plain": [
              "<Figure size 600x400 with 1 Axes>"
            ],
            "image/png": "[encoded data removed]"
          },
          "metadata": {}
        }
      ]
    },
    {
      "cell_type": "code",
      "source": [
        "plt.figure(figsize=(6,4))\n",
        "plt.bar(['RMSE'], [rmse], color='orange')\n",
        "plt.title(\"Root Mean Squared Error\")\n",
        "plt.ylabel(\"RMSE\")\n",
        "plt.grid(axis='y')\n",
        "plt.show()"
      ],
      "metadata": {
        "colab": {
          "base_uri": "https://localhost:8080/",
          "height": 391
        },
        "id": "WqtdHKm-UGZt",
        "outputId": "ce76a2ba-3ae9-490b-9665-1740c580b569"
      },
      "execution_count": 127,
      "outputs": [
        {
          "output_type": "display_data",
          "data": {
            "text/plain": [
              "<Figure size 600x400 with 1 Axes>"
            ],
            "image/png": "[encoded data removed]"
          },
          "metadata": {}
        }
      ]
    },
    {
      "cell_type": "code",
      "source": [
        "plt.figure(figsize=(6,4))\n",
        "plt.bar(['R²'], [r2], color='green')\n",
        "plt.title(\"R-Squared\")\n",
        "plt.ylabel(\"R² Score\")\n",
        "plt.grid(axis='y')\n",
        "plt.show()"
      ],
      "metadata": {
        "colab": {
          "base_uri": "https://localhost:8080/",
          "height": 391
        },
        "id": "3tKVsM6gUJ4o",
        "outputId": "3ca5ead1-2f2f-48c6-882e-743867c001dd"
      },
      "execution_count": 128,
      "outputs": [
        {
          "output_type": "display_data",
          "data": {
            "text/plain": [
              "<Figure size 600x400 with 1 Axes>"
            ],
            "image/png": "[encoded data removed]"
          },
          "metadata": {}
        }
      ]
    },
    {
      "cell_type": "code",
      "source": [],
      "metadata": {
        "id": "mldmFBVynRSZ"
      },
      "execution_count": null,
      "outputs": []
    }
  ]
}